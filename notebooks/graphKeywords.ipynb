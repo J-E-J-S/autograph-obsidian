{
 "cells": [
  {
   "cell_type": "code",
   "execution_count": 11,
   "metadata": {},
   "outputs": [],
   "source": [
    "# For getpapers requester"
   ]
  },
  {
   "cell_type": "code",
   "execution_count": 12,
   "metadata": {},
   "outputs": [],
   "source": [
    "import os\n",
    "import sys\n",
    "import json \n",
    "\n",
    "file = '../resources/genetic-code-expansion-1000/eupmc_results.json'"
   ]
  },
  {
   "cell_type": "code",
   "execution_count": 13,
   "metadata": {},
   "outputs": [],
   "source": [
    "with open(file, encoding='utf-8') as f:\n",
    "    data = json.load(f)\n",
    "\n",
    "dic = {} # Dictionary holding all the years and key word counts {year:{keyword:count, keyword:count}, year:{keyword:count, keyword:count} ... }"
   ]
  },
  {
   "cell_type": "code",
   "execution_count": 14,
   "metadata": {},
   "outputs": [],
   "source": [
    "# Generate list of lists of keywords by entry\n",
    "\n",
    "keywords = [] # Holds list of lists for keyword per entry in dic \n",
    "\n",
    "count = 0 \n",
    "for item in data:\n",
    "    count += 1 \n",
    "    # Ignore items that don't have keywords \n",
    "    try: \n",
    "        keywords.append(item['keywordList'][0]['keyword']) # list\n",
    "    except:\n",
    "        continue"
   ]
  },
  {
   "cell_type": "code",
   "execution_count": 15,
   "metadata": {},
   "outputs": [],
   "source": [
    "# Create obsidian.md vault \n",
    "\n",
    "outPath = '../output/test/'\n",
    "try:\n",
    "    os.mkdir(outPath)\n",
    "except:\n",
    "    pass\n",
    "\n",
    "invalidChars = '<>:/\"/\\|?*'\n",
    "\n",
    "for article in keywords:\n",
    "    for keyword in article: \n",
    "        # Clean keyword \n",
    "        keyword = keyword.replace('\\n', '')\n",
    "        for char in invalidChars:\n",
    "            keyword = keyword.replace(char, '')\n",
    "            \n",
    "        \n",
    "        try: \n",
    "            f = open(outPath + keyword + '.md', 'x')\n",
    "        except:\n",
    "            pass \n",
    "        f = open(outPath + keyword + '.md', 'a')\n",
    "        for link in article: \n",
    "            if link != keyword:\n",
    "                try:\n",
    "                    f.write('[[' + link +  ']]\\n')\n",
    "                except:\n",
    "                    pass\n",
    "        f.close()\n",
    "        "
   ]
  },
  {
   "cell_type": "code",
   "execution_count": null,
   "metadata": {},
   "outputs": [],
   "source": []
  }
 ],
 "metadata": {
  "kernelspec": {
   "display_name": "Python 3",
   "language": "python",
   "name": "python3"
  },
  "language_info": {
   "codemirror_mode": {
    "name": "ipython",
    "version": 3
   },
   "file_extension": ".py",
   "mimetype": "text/x-python",
   "name": "python",
   "nbconvert_exporter": "python",
   "pygments_lexer": "ipython3",
   "version": "3.8.5"
  }
 },
 "nbformat": 4,
 "nbformat_minor": 4
}
